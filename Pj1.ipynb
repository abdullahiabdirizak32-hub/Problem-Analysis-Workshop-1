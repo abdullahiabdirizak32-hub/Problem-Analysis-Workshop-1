{
 "cells": [
  {
   "cell_type": "markdown",
   "id": "6632949a",
   "metadata": {},
   "source": [
    "Problem Analysis Workshop 1"
   ]
  },
  {
   "cell_type": "code",
   "execution_count": 1,
   "id": "ebb3f5e0",
   "metadata": {},
   "outputs": [
    {
     "name": "stdout",
     "output_type": "stream",
     "text": [
      "Hi There\n"
     ]
    }
   ],
   "source": [
    "print(\"Hi There\")"
   ]
  }
 ],
 "metadata": {
  "kernelspec": {
   "display_name": ".venv",
   "language": "python",
   "name": "python3"
  },
  "language_info": {
   "codemirror_mode": {
    "name": "ipython",
    "version": 3
   },
   "file_extension": ".py",
   "mimetype": "text/x-python",
   "name": "python",
   "nbconvert_exporter": "python",
   "pygments_lexer": "ipython3",
   "version": "3.13.7"
  }
 },
 "nbformat": 4,
 "nbformat_minor": 5
}
